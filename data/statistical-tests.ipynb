{
 "cells": [
  {
   "cell_type": "code",
   "execution_count": 1,
   "metadata": {},
   "outputs": [],
   "source": [
    "import numpy as np\n",
    "import matplotlib.pyplot as plt\n",
    "import pandas as pd\n",
    "\n",
    "gene_expression_data = pd.read_csv('dataset/gene_expression_data.csv', index_col=0)\n",
    "gene_expression_data = gene_expression_data.T\n",
    "gene_expression_data = np.log2(gene_expression_data)\n",
    "\n",
    "def add_state(row):\n",
    "    if '_S' in str(row.name):  # Ensure it's a string for the 'in' operation\n",
    "        return 0\n",
    "    elif '_P' in str(row.name):\n",
    "        return 1\n",
    "\n",
    "gene_expression_data['state'] = gene_expression_data.apply(add_state, axis=1)"
   ]
  },
  {
   "cell_type": "markdown",
   "metadata": {},
   "source": [
    "### Z-test\n"
   ]
  },
  {
   "cell_type": "code",
   "execution_count": 2,
   "metadata": {},
   "outputs": [],
   "source": [
    "stable = gene_expression_data[gene_expression_data['state'] == 0]\n",
    "progressing = gene_expression_data[gene_expression_data['state'] == 1]"
   ]
  },
  {
   "cell_type": "code",
   "execution_count": 3,
   "metadata": {},
   "outputs": [
    {
     "name": "stdout",
     "output_type": "stream",
     "text": [
      "P-values: [0.99711782 0.85741222 0.4012185  ... 0.97320467 0.18156975 0.        ]\n"
     ]
    },
    {
     "name": "stderr",
     "output_type": "stream",
     "text": [
      "/var/folders/ms/ntrkgb291jn46fk1gj1cw5wr0000gn/T/ipykernel_27199/706357919.py:27: RuntimeWarning: divide by zero encountered in scalar divide\n",
      "  z_statistic = mean_difference / std_error_difference\n"
     ]
    }
   ],
   "source": [
    "\n",
    "from scipy.stats import norm\n",
    "\n",
    "def two_sample_z_test_for_features(data_group1, data_group2):\n",
    "\n",
    "    num_features = data_group1.shape[1]\n",
    "    p_values = np.zeros(num_features)\n",
    "    for i in range(num_features):\n",
    "        feature_data_group1 = data_group1.iloc[:, i]\n",
    "        feature_data_group2 = data_group2.iloc[:, i]\n",
    "        mean_group1 = np.mean(feature_data_group1)\n",
    "        mean_group2 = np.mean(feature_data_group2)\n",
    "        \n",
    "        std_dev_group1 = np.std(feature_data_group1)\n",
    "        std_dev_group2 = np.std(feature_data_group2)\n",
    "        \n",
    "        sample_size_group1 = len(feature_data_group1)\n",
    "        sample_size_group2 = len(feature_data_group2)\n",
    "        \n",
    "        # Assuming null hypothesis: mean of group1 - mean of group2 = 0\n",
    "        mean_difference = mean_group1 - mean_group2\n",
    "        \n",
    "        # Calculate the standard error of the difference between means\n",
    "        std_error_difference = np.sqrt((std_dev_group1**2 / sample_size_group1) + \n",
    "                                        (std_dev_group2**2 / sample_size_group2))\n",
    "        \n",
    "        # Compute z-statistic\n",
    "        z_statistic = mean_difference / std_error_difference\n",
    "        \n",
    "        # Compute p-value\n",
    "        p_value = norm.cdf(z_statistic)\n",
    "        \n",
    "        p_values[i] = p_value\n",
    "    \n",
    "    # Sort indices based on p-values\n",
    "    return p_values\n",
    "\n",
    "# Example gene expression data for two groups (replace with your actual data)\n",
    "\n",
    "p_values = two_sample_z_test_for_features(stable, progressing)\n",
    "\n",
    "# # Print the p-values\n",
    "print(\"P-values:\", p_values)"
   ]
  },
  {
   "cell_type": "code",
   "execution_count": 4,
   "metadata": {},
   "outputs": [
    {
     "data": {
      "text/html": [
       "<div>\n",
       "<style scoped>\n",
       "    .dataframe tbody tr th:only-of-type {\n",
       "        vertical-align: middle;\n",
       "    }\n",
       "\n",
       "    .dataframe tbody tr th {\n",
       "        vertical-align: top;\n",
       "    }\n",
       "\n",
       "    .dataframe thead th {\n",
       "        text-align: right;\n",
       "    }\n",
       "</style>\n",
       "<table border=\"1\" class=\"dataframe\">\n",
       "  <thead>\n",
       "    <tr style=\"text-align: right;\">\n",
       "      <th></th>\n",
       "      <th>Feature</th>\n",
       "      <th>P-value</th>\n",
       "    </tr>\n",
       "  </thead>\n",
       "  <tbody>\n",
       "    <tr>\n",
       "      <th>0</th>\n",
       "      <td>1007_s_at</td>\n",
       "      <td>0.997118</td>\n",
       "    </tr>\n",
       "    <tr>\n",
       "      <th>1</th>\n",
       "      <td>1053_at</td>\n",
       "      <td>0.857412</td>\n",
       "    </tr>\n",
       "    <tr>\n",
       "      <th>2</th>\n",
       "      <td>117_at</td>\n",
       "      <td>0.401219</td>\n",
       "    </tr>\n",
       "    <tr>\n",
       "      <th>3</th>\n",
       "      <td>121_at</td>\n",
       "      <td>0.445731</td>\n",
       "    </tr>\n",
       "    <tr>\n",
       "      <th>4</th>\n",
       "      <td>1255_g_at</td>\n",
       "      <td>0.969285</td>\n",
       "    </tr>\n",
       "    <tr>\n",
       "      <th>...</th>\n",
       "      <td>...</td>\n",
       "      <td>...</td>\n",
       "    </tr>\n",
       "    <tr>\n",
       "      <th>54671</th>\n",
       "      <td>AFFX-ThrX-M_at</td>\n",
       "      <td>0.870082</td>\n",
       "    </tr>\n",
       "    <tr>\n",
       "      <th>54672</th>\n",
       "      <td>AFFX-TrpnX-3_at</td>\n",
       "      <td>0.710107</td>\n",
       "    </tr>\n",
       "    <tr>\n",
       "      <th>54673</th>\n",
       "      <td>AFFX-TrpnX-5_at</td>\n",
       "      <td>0.973205</td>\n",
       "    </tr>\n",
       "    <tr>\n",
       "      <th>54674</th>\n",
       "      <td>AFFX-TrpnX-M_at</td>\n",
       "      <td>0.181570</td>\n",
       "    </tr>\n",
       "    <tr>\n",
       "      <th>54675</th>\n",
       "      <td>state</td>\n",
       "      <td>0.000000</td>\n",
       "    </tr>\n",
       "  </tbody>\n",
       "</table>\n",
       "<p>54676 rows × 2 columns</p>\n",
       "</div>"
      ],
      "text/plain": [
       "               Feature   P-value\n",
       "0            1007_s_at  0.997118\n",
       "1              1053_at  0.857412\n",
       "2               117_at  0.401219\n",
       "3               121_at  0.445731\n",
       "4            1255_g_at  0.969285\n",
       "...                ...       ...\n",
       "54671   AFFX-ThrX-M_at  0.870082\n",
       "54672  AFFX-TrpnX-3_at  0.710107\n",
       "54673  AFFX-TrpnX-5_at  0.973205\n",
       "54674  AFFX-TrpnX-M_at  0.181570\n",
       "54675            state  0.000000\n",
       "\n",
       "[54676 rows x 2 columns]"
      ]
     },
     "execution_count": 4,
     "metadata": {},
     "output_type": "execute_result"
    }
   ],
   "source": [
    "# Create a df to store feature and p-value\n",
    "z_test_data = pd.DataFrame({'Feature': list(gene_expression_data.columns), 'P-value': p_values})\n",
    "z_test_data"
   ]
  },
  {
   "cell_type": "code",
   "execution_count": 5,
   "metadata": {},
   "outputs": [
    {
     "data": {
      "text/html": [
       "<div>\n",
       "<style scoped>\n",
       "    .dataframe tbody tr th:only-of-type {\n",
       "        vertical-align: middle;\n",
       "    }\n",
       "\n",
       "    .dataframe tbody tr th {\n",
       "        vertical-align: top;\n",
       "    }\n",
       "\n",
       "    .dataframe thead th {\n",
       "        text-align: right;\n",
       "    }\n",
       "</style>\n",
       "<table border=\"1\" class=\"dataframe\">\n",
       "  <thead>\n",
       "    <tr style=\"text-align: right;\">\n",
       "      <th></th>\n",
       "      <th>Feature</th>\n",
       "      <th>P-value</th>\n",
       "    </tr>\n",
       "  </thead>\n",
       "  <tbody>\n",
       "    <tr>\n",
       "      <th>24</th>\n",
       "      <td>1552275_s_at</td>\n",
       "      <td>0.003488</td>\n",
       "    </tr>\n",
       "    <tr>\n",
       "      <th>38</th>\n",
       "      <td>1552295_a_at</td>\n",
       "      <td>0.001715</td>\n",
       "    </tr>\n",
       "    <tr>\n",
       "      <th>40</th>\n",
       "      <td>1552299_at</td>\n",
       "      <td>0.005588</td>\n",
       "    </tr>\n",
       "    <tr>\n",
       "      <th>88</th>\n",
       "      <td>1552375_at</td>\n",
       "      <td>0.001143</td>\n",
       "    </tr>\n",
       "    <tr>\n",
       "      <th>113</th>\n",
       "      <td>1552411_at</td>\n",
       "      <td>0.008763</td>\n",
       "    </tr>\n",
       "    <tr>\n",
       "      <th>...</th>\n",
       "      <td>...</td>\n",
       "      <td>...</td>\n",
       "    </tr>\n",
       "    <tr>\n",
       "      <th>54444</th>\n",
       "      <td>48808_at</td>\n",
       "      <td>0.002311</td>\n",
       "    </tr>\n",
       "    <tr>\n",
       "      <th>54571</th>\n",
       "      <td>65133_i_at</td>\n",
       "      <td>0.001285</td>\n",
       "    </tr>\n",
       "    <tr>\n",
       "      <th>54577</th>\n",
       "      <td>65585_at</td>\n",
       "      <td>0.000960</td>\n",
       "    </tr>\n",
       "    <tr>\n",
       "      <th>54629</th>\n",
       "      <td>AFFX-HUMGAPDH/M33197_3_at</td>\n",
       "      <td>0.000082</td>\n",
       "    </tr>\n",
       "    <tr>\n",
       "      <th>54675</th>\n",
       "      <td>state</td>\n",
       "      <td>0.000000</td>\n",
       "    </tr>\n",
       "  </tbody>\n",
       "</table>\n",
       "<p>1015 rows × 2 columns</p>\n",
       "</div>"
      ],
      "text/plain": [
       "                         Feature   P-value\n",
       "24                  1552275_s_at  0.003488\n",
       "38                  1552295_a_at  0.001715\n",
       "40                    1552299_at  0.005588\n",
       "88                    1552375_at  0.001143\n",
       "113                   1552411_at  0.008763\n",
       "...                          ...       ...\n",
       "54444                   48808_at  0.002311\n",
       "54571                 65133_i_at  0.001285\n",
       "54577                   65585_at  0.000960\n",
       "54629  AFFX-HUMGAPDH/M33197_3_at  0.000082\n",
       "54675                      state  0.000000\n",
       "\n",
       "[1015 rows x 2 columns]"
      ]
     },
     "execution_count": 5,
     "metadata": {},
     "output_type": "execute_result"
    }
   ],
   "source": [
    "relevant_z_test = z_test_data[z_test_data['P-value'] < 0.01]\n",
    "relevant_z_test"
   ]
  },
  {
   "cell_type": "markdown",
   "metadata": {},
   "source": [
    "### Wilcoxon"
   ]
  },
  {
   "cell_type": "code",
   "execution_count": 6,
   "metadata": {},
   "outputs": [],
   "source": [
    "### Wilkoxon test\n",
    "from scipy.stats import mannwhitneyu\n",
    "\n",
    "def wilcoxon_rank_sum_test(data_group1, data_group2):\n",
    "    num_features = data_group1.shape[1]\n",
    "    p_values = np.zeros(num_features)\n",
    "    for i in range(num_features):\n",
    "        feature_group1 = data_group1.iloc[:, i]\n",
    "        feature_group2 = data_group2.iloc[:, i]\n",
    "        u_statistic, p_value = mannwhitneyu(feature_group1, feature_group2)\n",
    "        p_values[i] = p_value\n",
    "\n",
    "    return p_values\n",
    "\n",
    "p_values = wilcoxon_rank_sum_test(stable, progressing)\n",
    "wilcoxon_data = pd.DataFrame({'Feature' : list(gene_expression_data.columns), 'P-values' : p_values})\n",
    "\n",
    "wilcoxon_data\n",
    "relevant_wicoxon_test = wilcoxon_data[wilcoxon_data['P-values'] < 0.01]"
   ]
  },
  {
   "cell_type": "code",
   "execution_count": 7,
   "metadata": {},
   "outputs": [
    {
     "data": {
      "text/html": [
       "<div>\n",
       "<style scoped>\n",
       "    .dataframe tbody tr th:only-of-type {\n",
       "        vertical-align: middle;\n",
       "    }\n",
       "\n",
       "    .dataframe tbody tr th {\n",
       "        vertical-align: top;\n",
       "    }\n",
       "\n",
       "    .dataframe thead th {\n",
       "        text-align: right;\n",
       "    }\n",
       "</style>\n",
       "<table border=\"1\" class=\"dataframe\">\n",
       "  <thead>\n",
       "    <tr style=\"text-align: right;\">\n",
       "      <th></th>\n",
       "      <th>Feature</th>\n",
       "      <th>P-values</th>\n",
       "    </tr>\n",
       "  </thead>\n",
       "  <tbody>\n",
       "    <tr>\n",
       "      <th>0</th>\n",
       "      <td>1007_s_at</td>\n",
       "      <td>1.853688e-03</td>\n",
       "    </tr>\n",
       "    <tr>\n",
       "      <th>4</th>\n",
       "      <td>1255_g_at</td>\n",
       "      <td>9.132303e-04</td>\n",
       "    </tr>\n",
       "    <tr>\n",
       "      <th>6</th>\n",
       "      <td>1316_at</td>\n",
       "      <td>1.140697e-04</td>\n",
       "    </tr>\n",
       "    <tr>\n",
       "      <th>21</th>\n",
       "      <td>1552271_at</td>\n",
       "      <td>1.585177e-03</td>\n",
       "    </tr>\n",
       "    <tr>\n",
       "      <th>24</th>\n",
       "      <td>1552275_s_at</td>\n",
       "      <td>2.003067e-03</td>\n",
       "    </tr>\n",
       "    <tr>\n",
       "      <th>...</th>\n",
       "      <td>...</td>\n",
       "      <td>...</td>\n",
       "    </tr>\n",
       "    <tr>\n",
       "      <th>54665</th>\n",
       "      <td>AFFX-r2-Ec-bioD-3_at</td>\n",
       "      <td>1.234688e-03</td>\n",
       "    </tr>\n",
       "    <tr>\n",
       "      <th>54666</th>\n",
       "      <td>AFFX-r2-Ec-bioD-5_at</td>\n",
       "      <td>7.604822e-04</td>\n",
       "    </tr>\n",
       "    <tr>\n",
       "      <th>54667</th>\n",
       "      <td>AFFX-r2-P1-cre-3_at</td>\n",
       "      <td>5.008457e-05</td>\n",
       "    </tr>\n",
       "    <tr>\n",
       "      <th>54668</th>\n",
       "      <td>AFFX-r2-P1-cre-5_at</td>\n",
       "      <td>4.118920e-04</td>\n",
       "    </tr>\n",
       "    <tr>\n",
       "      <th>54675</th>\n",
       "      <td>state</td>\n",
       "      <td>1.304155e-79</td>\n",
       "    </tr>\n",
       "  </tbody>\n",
       "</table>\n",
       "<p>2478 rows × 2 columns</p>\n",
       "</div>"
      ],
      "text/plain": [
       "                    Feature      P-values\n",
       "0                 1007_s_at  1.853688e-03\n",
       "4                 1255_g_at  9.132303e-04\n",
       "6                   1316_at  1.140697e-04\n",
       "21               1552271_at  1.585177e-03\n",
       "24             1552275_s_at  2.003067e-03\n",
       "...                     ...           ...\n",
       "54665  AFFX-r2-Ec-bioD-3_at  1.234688e-03\n",
       "54666  AFFX-r2-Ec-bioD-5_at  7.604822e-04\n",
       "54667   AFFX-r2-P1-cre-3_at  5.008457e-05\n",
       "54668   AFFX-r2-P1-cre-5_at  4.118920e-04\n",
       "54675                 state  1.304155e-79\n",
       "\n",
       "[2478 rows x 2 columns]"
      ]
     },
     "execution_count": 7,
     "metadata": {},
     "output_type": "execute_result"
    }
   ],
   "source": [
    "relevant_wicoxon_test"
   ]
  },
  {
   "cell_type": "code",
   "execution_count": 8,
   "metadata": {},
   "outputs": [],
   "source": [
    "z_test_features = relevant_z_test['Feature']"
   ]
  },
  {
   "cell_type": "code",
   "execution_count": 9,
   "metadata": {},
   "outputs": [],
   "source": [
    "wilcoxon_features = relevant_wicoxon_test['Feature']"
   ]
  },
  {
   "cell_type": "markdown",
   "metadata": {},
   "source": [
    "### Pearson Correlation"
   ]
  },
  {
   "cell_type": "code",
   "execution_count": 10,
   "metadata": {},
   "outputs": [
    {
     "data": {
      "text/plain": [
       "24                    1552275_s_at\n",
       "38                    1552295_a_at\n",
       "40                      1552299_at\n",
       "88                      1552375_at\n",
       "113                     1552411_at\n",
       "                   ...            \n",
       "54444                     48808_at\n",
       "54571                   65133_i_at\n",
       "54577                     65585_at\n",
       "54629    AFFX-HUMGAPDH/M33197_3_at\n",
       "54675                        state\n",
       "Name: Feature, Length: 1015, dtype: object"
      ]
     },
     "execution_count": 10,
     "metadata": {},
     "output_type": "execute_result"
    }
   ],
   "source": [
    "z_test_features\n"
   ]
  },
  {
   "cell_type": "code",
   "execution_count": 11,
   "metadata": {},
   "outputs": [],
   "source": [
    "selected = z_test_features"
   ]
  },
  {
   "cell_type": "code",
   "execution_count": null,
   "metadata": {},
   "outputs": [],
   "source": []
  }
 ],
 "metadata": {
  "kernelspec": {
   "display_name": "Python 3",
   "language": "python",
   "name": "python3"
  },
  "language_info": {
   "codemirror_mode": {
    "name": "ipython",
    "version": 3
   },
   "file_extension": ".py",
   "mimetype": "text/x-python",
   "name": "python",
   "nbconvert_exporter": "python",
   "pygments_lexer": "ipython3",
   "version": "3.11.9"
  }
 },
 "nbformat": 4,
 "nbformat_minor": 2
}
